{
 "cells": [
  {
   "cell_type": "code",
   "execution_count": 9,
   "id": "c161722e-de87-4832-a117-5d3e8afec2c9",
   "metadata": {},
   "outputs": [
    {
     "ename": "FileNotFoundError",
     "evalue": "[Errno 2] No such file or directory: 'train'",
     "output_type": "error",
     "traceback": [
      "\u001b[0;31m---------------------------------------------------------------------------\u001b[0m",
      "\u001b[0;31mFileNotFoundError\u001b[0m                         Traceback (most recent call last)",
      "\u001b[0;32m<ipython-input-9-f5b9195a8896>\u001b[0m in \u001b[0;36m<module>\u001b[0;34m\u001b[0m\n\u001b[1;32m      5\u001b[0m \u001b[0;32mimport\u001b[0m \u001b[0mrandom\u001b[0m\u001b[0;34m\u001b[0m\u001b[0;34m\u001b[0m\u001b[0m\n\u001b[1;32m      6\u001b[0m \u001b[0;32mimport\u001b[0m \u001b[0mnumpy\u001b[0m \u001b[0;32mas\u001b[0m \u001b[0mnp\u001b[0m\u001b[0;34m\u001b[0m\u001b[0;34m\u001b[0m\u001b[0m\n\u001b[0;32m----> 7\u001b[0;31m \u001b[0mos\u001b[0m\u001b[0;34m.\u001b[0m\u001b[0mchdir\u001b[0m\u001b[0;34m(\u001b[0m\u001b[0;34m'train'\u001b[0m\u001b[0;34m)\u001b[0m\u001b[0;34m\u001b[0m\u001b[0;34m\u001b[0m\u001b[0m\n\u001b[0m\u001b[1;32m      8\u001b[0m \u001b[0;34m\u001b[0m\u001b[0m\n\u001b[1;32m      9\u001b[0m \u001b[0mrootdir\u001b[0m \u001b[0;34m=\u001b[0m \u001b[0mos\u001b[0m\u001b[0;34m.\u001b[0m\u001b[0mgetcwd\u001b[0m\u001b[0;34m(\u001b[0m\u001b[0;34m)\u001b[0m\u001b[0;34m\u001b[0m\u001b[0;34m\u001b[0m\u001b[0m\n",
      "\u001b[0;31mFileNotFoundError\u001b[0m: [Errno 2] No such file or directory: 'train'"
     ]
    }
   ],
   "source": [
    "import os\n",
    "import cv2\n",
    "from skimage import io, color\n",
    "import matplotlib.pyplot as plt\n",
    "import random\n",
    "import numpy as np\n",
    "os.chdir('train')\n",
    "\n",
    "rootdir = os.getcwd()\n",
    "#filenames = random.sample(os.listdir('D:\\\\Proj\\\\vinita\\\\colornet\\\\'), 500)\n",
    "filenames = os.listdir('train')\n",
    "lspace=[]\n",
    "abspace=[]\n",
    "for file in filenames:\n",
    "    rgb = io.imread(file)\n",
    "   # plt.imshow(rgb)\n",
    "    lab_image = cv2.cvtColor(rgb, cv2.COLOR_BGR2LAB)\n",
    "    l_channel,a_channel,b_channel = cv2.split(lab_image) \n",
    "    lspace.append(l_channel)\n",
    "    replot_lab=np.zeros((224, 224, 3))\n",
    "    replot_lab[:,:,0] = a_channel\n",
    "    replot_lab[:,:,1] = b_channel\n",
    "    abspace.append(replot_lab)\n",
    "    transfer = cv2.merge([l_channel, a_channel, b_channel])\n",
    "    transfer = cv2.cvtColor(transfer.astype(\"uint8\"), cv2.COLOR_LAB2BGR)\n",
    "    #plt.imshow(transfer)\n",
    "       \n",
    "lspace=np.asarray(lspace)\n",
    "abspace=np.asarray(abspace)"
   ]
  },
  {
   "cell_type": "code",
   "execution_count": null,
   "id": "ad8364cd-0283-43cc-b38e-a6f6f0a404a4",
   "metadata": {},
   "outputs": [],
   "source": []
  }
 ],
 "metadata": {
  "kernelspec": {
   "display_name": "Python 3",
   "language": "python",
   "name": "python3"
  },
  "language_info": {
   "codemirror_mode": {
    "name": "ipython",
    "version": 3
   },
   "file_extension": ".py",
   "mimetype": "text/x-python",
   "name": "python",
   "nbconvert_exporter": "python",
   "pygments_lexer": "ipython3",
   "version": "3.8.8"
  }
 },
 "nbformat": 4,
 "nbformat_minor": 5
}
